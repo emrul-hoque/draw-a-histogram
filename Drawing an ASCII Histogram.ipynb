{
  "cells": [
    {
      "cell_type": "markdown",
      "metadata": {
        "id": "view-in-github",
        "colab_type": "text"
      },
      "source": [
        "<a href=\"https://colab.research.google.com/github/emrul-hoque/draw-a-histogram/blob/master/Drawing%20an%20ASCII%20Histogram.ipynb\" target=\"_parent\"><img src=\"https://colab.research.google.com/assets/colab-badge.svg\" alt=\"Open In Colab\"/></a>"
      ]
    },
    {
      "cell_type": "code",
      "source": [
        "import os\n",
        "\n",
        "os.system(\"cls\")\n",
        "\n",
        "my_list = []\n",
        "\n",
        "for i in range(5):\n",
        "  value = int(input(\"\\nEnter a number:\\t\"))\n",
        "  my_list.append(value)\n",
        "\n",
        "print(\"\\nYour list of integers is:\\t\", my_list, \"\\n\")\n",
        "\n",
        "print(\"\"\"\n",
        "-----------------------------------------------------\n",
        "Drawing an ASCII Histogram based on your integer list\n",
        "-----------------------------------------------------\n",
        "\"\"\")\n",
        "\n",
        "for j in my_list:\n",
        "  print(\"@\" * j)"
      ],
      "metadata": {
        "id": "d5VzF3rIKbyn",
        "outputId": "8175c879-1101-4e90-e8c4-85cfe1d0de4b",
        "colab": {
          "base_uri": "https://localhost:8080/"
        }
      },
      "execution_count": 10,
      "outputs": [
        {
          "output_type": "stream",
          "name": "stdout",
          "text": [
            "\n",
            "Enter a number:\t9\n",
            "\n",
            "Enter a number:\t8\n",
            "\n",
            "Enter a number:\t7\n",
            "\n",
            "Enter a number:\t6\n",
            "\n",
            "Enter a number:\t5\n",
            "\n",
            "Your list of integers is:\t [9, 8, 7, 6, 5] \n",
            "\n",
            "\n",
            "-----------------------------------------------------\n",
            "Drawing an ASCII Histogram based on your integer list\n",
            "-----------------------------------------------------\n",
            "\n",
            "@@@@@@@@@\n",
            "@@@@@@@@\n",
            "@@@@@@@\n",
            "@@@@@@\n",
            "@@@@@\n"
          ]
        }
      ]
    }
  ],
  "metadata": {
    "colab": {
      "name": "Welcome to Colaboratory",
      "toc_visible": true,
      "provenance": [],
      "include_colab_link": true
    },
    "kernelspec": {
      "display_name": "Python 3",
      "name": "python3"
    }
  },
  "nbformat": 4,
  "nbformat_minor": 0
}