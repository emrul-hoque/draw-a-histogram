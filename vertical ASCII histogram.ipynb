{
  "nbformat": 4,
  "nbformat_minor": 0,
  "metadata": {
    "colab": {
      "provenance": [],
      "authorship_tag": "ABX9TyN2w5oXvo5uucvwDJ1B5aVF",
      "include_colab_link": true
    },
    "kernelspec": {
      "name": "python3",
      "display_name": "Python 3"
    },
    "language_info": {
      "name": "python"
    }
  },
  "cells": [
    {
      "cell_type": "markdown",
      "metadata": {
        "id": "view-in-github",
        "colab_type": "text"
      },
      "source": [
        "<a href=\"https://colab.research.google.com/github/emrul-hoque/draw-a-histogram/blob/master/vertical%20ASCII%20histogram.ipynb\" target=\"_parent\"><img src=\"https://colab.research.google.com/assets/colab-badge.svg\" alt=\"Open In Colab\"/></a>"
      ]
    },
    {
      "cell_type": "code",
      "execution_count": 10,
      "metadata": {
        "colab": {
          "base_uri": "https://localhost:8080/"
        },
        "id": "x-RlMHHU9pd2",
        "outputId": "85818d87-48a6-427f-9a1f-7900dc0fece3"
      },
      "outputs": [
        {
          "output_type": "stream",
          "name": "stdout",
          "text": [
            "    @  \n",
            "    @@\n",
            "    @@\n",
            "  @@@\n",
            "@@@@\n",
            "@@@@\n"
          ]
        }
      ],
      "source": [
        "def vertical_histogram(items):\n",
        "    max_value = max(items)\n",
        "\n",
        "    for i in range(max_value, 0, -1):\n",
        "        output = ''\n",
        "        for n in items:\n",
        "            if n >= i:\n",
        "                output += '@'\n",
        "            else:\n",
        "                output += '  '\n",
        "        print(output)\n",
        "\n",
        "# Call the vertical_histogram function with a list of numbers and print the vertical histogram.\n",
        "vertical_histogram([2, 3, 6, 5])\n"
      ]
    }
  ]
}