{
  "nbformat": 4,
  "nbformat_minor": 0,
  "metadata": {
    "colab": {
      "provenance": [],
      "authorship_tag": "ABX9TyMdZ7wOxiNN47uboKN/Oa8s",
      "include_colab_link": true
    },
    "kernelspec": {
      "name": "python3",
      "display_name": "Python 3"
    },
    "language_info": {
      "name": "python"
    }
  },
  "cells": [
    {
      "cell_type": "markdown",
      "metadata": {
        "id": "view-in-github",
        "colab_type": "text"
      },
      "source": [
        "<a href=\"https://colab.research.google.com/github/emrul-hoque/draw-a-histogram/blob/master/ASCII%20Histogram.ipynb\" target=\"_parent\"><img src=\"https://colab.research.google.com/assets/colab-badge.svg\" alt=\"Open In Colab\"/></a>"
      ]
    },
    {
      "cell_type": "code",
      "execution_count": 5,
      "metadata": {
        "colab": {
          "base_uri": "https://localhost:8080/"
        },
        "id": "x-RlMHHU9pd2",
        "outputId": "6b939e07-402f-4d62-d2e7-bb6b2b5f365a"
      },
      "outputs": [
        {
          "output_type": "stream",
          "name": "stdout",
          "text": [
            "@@\n",
            "@@@\n",
            "@@@@@@\n",
            "@@@@@\n"
          ]
        }
      ],
      "source": [
        "def histogram(items):\n",
        "    for n in items:\n",
        "        output = '@' * n\n",
        "        print(output)\n",
        "\n",
        "histogram([2, 3, 6, 5])"
      ]
    }
  ]
}